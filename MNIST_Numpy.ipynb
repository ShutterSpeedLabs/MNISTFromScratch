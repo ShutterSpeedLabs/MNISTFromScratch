{
 "cells": [
  {
   "cell_type": "code",
   "execution_count": 1,
   "metadata": {},
   "outputs": [],
   "source": [
    "import matplotlib.pyplot\n",
    "%matplotlib inline\n",
    "import time\n",
    "import numpy as np"
   ]
  },
  {
   "cell_type": "code",
   "execution_count": 2,
   "metadata": {},
   "outputs": [],
   "source": [
    "train_img = \"./dataset/train-images.idx3-ubyte\"\n",
    "train_lbl = \"./dataset/train-labels.idx1-ubyte\"\n",
    "\n",
    "test_img = \"./dataset/t10k-images.idx3-ubyte\"\n",
    "test_lbl = \"./dataset/t10k-labels.idx1-ubyte\""
   ]
  },
  {
   "cell_type": "code",
   "execution_count": 3,
   "metadata": {},
   "outputs": [],
   "source": [
    "def ubyte2csv(imgs, lbls, output_file, no_of_imgs):\n",
    "    img_arr = open(imgs,'rb')\n",
    "    lbl_arr = open(lbls, 'rb')\n",
    "    csv_file = open(output_file, 'w')\n",
    "\n",
    "    img_arr.read(16)\n",
    "    lbl_arr.read(8)\n",
    "    images = []\n",
    "\n",
    "    for i in range(no_of_imgs):\n",
    "        image = [ord(lbl_arr.read(1))]\n",
    "        for j in range(28*28):\n",
    "            image.append(ord(img_arr.read(1)))\n",
    "        images.append(image)\n",
    "\n",
    "    for img in images:\n",
    "        csv_file.write(\",\".join(str(pix) for pix in img) + \"\\n\")\n",
    "    img_arr.close()\n",
    "    lbl_arr.close()\n",
    "    csv_file.close()\n"
   ]
  },
  {
   "cell_type": "code",
   "execution_count": 4,
   "metadata": {},
   "outputs": [],
   "source": [
    "# ubyte2csv(train_img, train_lbl, \"./dataset/train.csv\", 60000)\n",
    "# ubyte2csv(test_img,test_lbl, \"./dataset/test.csv\", 10000)"
   ]
  },
  {
   "cell_type": "code",
   "execution_count": 5,
   "metadata": {},
   "outputs": [
    {
     "name": "stdout",
     "output_type": "stream",
     "text": [
      "60000\n"
     ]
    }
   ],
   "source": [
    "train_file = open(\"./dataset/train.csv\")\n",
    "train_list = train_file.readlines()\n",
    "train_file.close()\n",
    "print(len(train_list))"
   ]
  },
  {
   "cell_type": "code",
   "execution_count": 6,
   "metadata": {},
   "outputs": [
    {
     "data": {
      "text/plain": [
       "'7,0,0,0,0,0,0,0,0,0,0,0,0,0,0,0,0,0,0,0,0,0,0,0,0,0,0,0,0,0,0,0,0,0,0,0,0,0,0,0,0,0,0,0,0,0,0,0,0,0,0,0,0,0,0,0,0,0,0,0,0,0,0,0,0,0,0,0,0,0,0,0,0,0,0,0,0,0,0,0,0,0,0,0,0,0,0,0,0,0,0,0,0,0,0,0,0,0,0,0,0,0,0,0,0,0,0,0,0,0,0,0,0,0,0,0,0,0,0,0,0,0,0,0,0,0,0,0,0,0,0,0,0,0,0,0,0,0,0,0,0,0,0,0,0,0,0,0,0,0,0,0,0,0,0,0,0,0,0,0,0,0,0,0,0,0,0,0,0,0,0,0,0,0,0,0,0,0,0,0,0,0,0,0,0,0,0,0,0,0,0,0,0,0,0,0,0,0,0,0,0,0,0,0,0,0,0,0,0,0,0,0,0,0,0,0,0,0,0,0,0,0,0,0,0,0,0,0,0,0,0,0,0,0,0,38,113,113,113,114,238,253,253,253,255,206,88,0,0,0,0,0,0,0,0,0,0,0,0,0,57,85,147,234,252,252,252,253,252,252,252,252,253,252,246,75,0,0,0,0,0,0,0,0,0,0,67,197,234,252,253,252,252,252,252,196,195,195,195,195,253,252,252,84,0,0,0,0,0,0,0,0,0,0,85,252,252,252,225,223,114,84,84,0,0,0,0,16,253,252,214,28,0,0,0,0,0,0,0,0,0,0,38,221,157,112,0,0,0,0,0,0,0,0,16,203,253,252,118,0,0,0,0,0,0,0,0,0,0,0,0,0,0,0,0,0,0,0,0,0,0,26,207,253,255,168,0,0,0,0,0,0,0,0,0,0,0,0,0,0,0,0,0,0,0,0,0,0,0,104,252,252,215,33,0,0,0,0,0,0,0,0,0,0,0,0,0,0,0,0,0,0,0,0,0,0,67,240,252,220,31,0,0,0,0,0,0,0,0,0,0,0,0,0,0,0,0,0,0,0,0,0,0,29,181,252,217,37,0,0,0,0,0,0,0,0,0,0,0,0,0,0,0,0,0,0,0,0,0,0,0,253,252,252,84,0,0,0,0,0,0,0,0,0,0,0,0,0,0,0,0,0,0,0,0,0,0,76,191,255,215,110,0,0,0,0,0,0,0,0,0,0,0,0,0,0,0,0,0,0,0,0,0,0,19,196,252,253,121,0,0,0,0,0,0,0,0,0,0,0,0,0,0,0,0,0,0,0,0,0,0,67,209,252,252,56,6,0,0,0,0,0,0,0,0,0,0,0,0,0,0,0,0,0,0,0,0,0,29,181,252,217,84,0,0,0,0,0,0,0,0,0,0,0,0,0,0,0,0,0,0,0,0,0,0,0,253,252,252,84,0,0,0,0,0,0,0,0,0,0,0,0,0,0,0,0,0,0,0,0,0,0,13,191,255,215,31,0,0,0,0,0,0,0,0,0,0,0,0,0,0,0,0,0,0,0,0,0,0,0,154,252,253,121,0,0,0,0,0,0,0,0,0,0,0,0,0,0,0,0,0,0,0,0,0,0,0,13,187,252,133,6,0,0,0,0,0,0,0,0,0,0,0,0,0,0,0,0,0,0,0,0,0,0,0,57,252,252,0,0,0,0,0,0,0,0,0,0,0,0,0,0,0,0,0,0,0,0,0,0,0,0,0,57,252,252,0,0,0,0,0,0,0,0,0,0,0,0,0,0,0,0,0,0,0\\n'"
      ]
     },
     "execution_count": 6,
     "metadata": {},
     "output_type": "execute_result"
    }
   ],
   "source": [
    "train_list[123]"
   ]
  },
  {
   "cell_type": "code",
   "execution_count": 7,
   "metadata": {},
   "outputs": [
    {
     "data": {
      "text/plain": [
       "<matplotlib.image.AxesImage at 0x775eaa27ff10>"
      ]
     },
     "execution_count": 7,
     "metadata": {},
     "output_type": "execute_result"
    },
    {
     "data": {
      "image/png": "[encoded data removed]",
      "text/plain": [
       "<Figure size 640x480 with 1 Axes>"
      ]
     },
     "metadata": {},
     "output_type": "display_data"
    }
   ],
   "source": [
    "values = train_list[123].split(\",\")\n",
    "image_array = np.asfarray(values[1:]).reshape(28,28)\n",
    "matplotlib.pyplot.imshow(image_array,cmap=\"gray\", interpolation=None)"
   ]
  },
  {
   "cell_type": "code",
   "execution_count": 8,
   "metadata": {},
   "outputs": [
    {
     "name": "stdout",
     "output_type": "stream",
     "text": [
      "10000\n"
     ]
    }
   ],
   "source": [
    "test_file = open(\"./dataset/test.csv\")\n",
    "test_list = test_file.readlines()\n",
    "test_file.close()\n",
    "print(len(test_list))"
   ]
  },
  {
   "cell_type": "code",
   "execution_count": 9,
   "metadata": {},
   "outputs": [],
   "source": [
    "class DNN:\n",
    "    def __init__(self, sizes=[784,128,64,10], epochs=10, lr=0.001):\n",
    "        self.sizes = sizes\n",
    "        self.epochs = epochs\n",
    "        self.lr = lr\n",
    "\n",
    "        input_layer = sizes[0]\n",
    "        hidden_1 = sizes[1]\n",
    "        hidden_2 = sizes[2]\n",
    "        output_layer = sizes[3]\n",
    "\n",
    "        self.params = {\n",
    "            'W1':np.random.randn(hidden_1,input_layer)*np.sqrt(1./hidden_1),\n",
    "            'W2':np.random.randn(hidden_2,hidden_1)*np.sqrt(1./hidden_2),\n",
    "            'W3':np.random.randn(output_layer,hidden_2)*np.sqrt(1./hidden_2)\n",
    "        }\n",
    "    \n",
    "    def sigmoid(self, x, derivative=False):\n",
    "        if derivative:\n",
    "            return (np.exp(-x))/((np.exp(-x)+1)**2)\n",
    "        return 1/(1+np.exp(-x))\n",
    "\n",
    "    def softmax(self, x, derivative=False):\n",
    "        exps = np.exp(x-x.max())\n",
    "        if derivative:\n",
    "            return exps/np.sum(exps, axis=0)*(1-exps/np.sum(exps, axis=0))\n",
    "        return exps/np.sum(exps, axis=0)\n",
    "\n",
    "\n",
    "    def forward_pass(self, x_train):\n",
    "        params = self.params\n",
    "        params['A0'] = x_train\n",
    "\n",
    "        params['Z1'] = np.dot(params['W1'], params['A0'])\n",
    "        params['A1'] = self.sigmoid(params['Z1'])\n",
    "\n",
    "        params['Z2'] = np.dot(params['W2'], params['A1'])\n",
    "        params['A2'] = self.sigmoid(params['Z2'])\n",
    "\n",
    "        params['Z3'] = np.dot(params['W3'], params['A2'])\n",
    "        params['A3'] = self.softmax(params['Z3'])\n",
    "\n",
    "        return params['Z3']\n",
    "    def backward_pass(self, y_train, output):\n",
    "        params = self.params\n",
    "\n",
    "        change_w = {}\n",
    "\n",
    "        error = 2*(output- y_train)/output.shape[0]*self.softmax(params['Z3'], derivative=True)\n",
    "        change_w['W3'] = np.outer(error, params['A2'])\n",
    "\n",
    "        error = np.dot(params['W3'].T, error)*self.sigmoid(params['Z2'], derivative=True)\n",
    "        change_w['W2'] = np.outer(error, params[\"A1\"])\n",
    "\n",
    "        error = np.dot(params['W2'].T, error)*self.sigmoid(params['Z1'], derivative=True)\n",
    "        change_w['W1'] = np.outer(error, params['A0'])\n",
    "\n",
    "        return change_w\n",
    "    \n",
    "    def update_weights(self, change_w):\n",
    "        for key, val in change_w.items():\n",
    "            self.params[key] -= self.lr*val \n",
    "\n",
    "    def compute_accuracy(self, test_data):\n",
    "        predictions = []\n",
    "        for x in test_data:\n",
    "            values = x.split(\",\")\n",
    "            inputs = (np.asfarray(values[1:]))/255.0*0.99 + 0.01\n",
    "            targets = np.zeros(10) + 0.01\n",
    "            targets[int(values[0])] = 0.99\n",
    "            output = self.forward_pass(inputs)\n",
    "            pred = np.argmax(output)\n",
    "            predictions.append(pred==np.argmax(targets))\n",
    "        \n",
    "        return np.mean(predictions)\n",
    "\n",
    "    def train(self, train_list, test_list):\n",
    "        start_time = time.time()\n",
    "        for iteration in range(self.epochs):\n",
    "            for x in train_list:\n",
    "                values = x.split(\",\")\n",
    "                inputs = (np.asfarray(values[1:])/255.0*0.99) + 0.01\n",
    "                targets = np.zeros(10) + 0.01\n",
    "                targets[int(values[0])] = 0.99\n",
    "                output = self.forward_pass(inputs)\n",
    "                change_w = self.backward_pass(targets, output)\n",
    "                self.update_weights(change_w)\n",
    "            \n",
    "            accuracy = self.compute_accuracy(test_list)\n",
    "            print('Epoch: {0}, Time Taken: {1:.2f}s, Accuracy: {2:.2f}%'.format(iteration+1, time.time() - start_time, accuracy*100))\n"
   ]
  },
  {
   "cell_type": "code",
   "execution_count": 10,
   "metadata": {},
   "outputs": [
    {
     "name": "stdout",
     "output_type": "stream",
     "text": [
      "Epoch: 1, Time Taken: 27.75s, Accuracy: 14.33%\n",
      "Epoch: 2, Time Taken: 55.80s, Accuracy: 22.37%\n",
      "Epoch: 3, Time Taken: 84.90s, Accuracy: 30.15%\n",
      "Epoch: 4, Time Taken: 112.16s, Accuracy: 36.93%\n",
      "Epoch: 5, Time Taken: 144.17s, Accuracy: 42.36%\n",
      "Epoch: 6, Time Taken: 176.15s, Accuracy: 46.79%\n",
      "Epoch: 7, Time Taken: 207.06s, Accuracy: 50.60%\n",
      "Epoch: 8, Time Taken: 238.79s, Accuracy: 53.98%\n",
      "Epoch: 9, Time Taken: 271.48s, Accuracy: 56.46%\n",
      "Epoch: 10, Time Taken: 303.55s, Accuracy: 58.80%\n"
     ]
    }
   ],
   "source": [
    "dnn = DNN(sizes=[784, 128, 64, 10], epochs=10, lr=0.001)\n",
    "dnn.train(train_list, test_list)"
   ]
  }
 ],
 "metadata": {
  "kernelspec": {
   "display_name": "myTorch",
   "language": "python",
   "name": "python3"
  },
  "language_info": {
   "codemirror_mode": {
    "name": "ipython",
    "version": 3
   },
   "file_extension": ".py",
   "mimetype": "text/x-python",
   "name": "python",
   "nbconvert_exporter": "python",
   "pygments_lexer": "ipython3",
   "version": "3.10.14"
  }
 },
 "nbformat": 4,
 "nbformat_minor": 2
}
