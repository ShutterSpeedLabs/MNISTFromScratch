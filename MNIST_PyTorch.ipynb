{
 "cells": [
  {
   "cell_type": "code",
   "execution_count": 1,
   "metadata": {},
   "outputs": [],
   "source": [
    "import torch\n",
    "import torchvision"
   ]
  },
  {
   "cell_type": "code",
   "execution_count": 2,
   "metadata": {},
   "outputs": [
    {
     "name": "stdout",
     "output_type": "stream",
     "text": [
      "torch: 2.3.0\n"
     ]
    }
   ],
   "source": [
    "print(\"torch:\", torch.__version__)"
   ]
  },
  {
   "cell_type": "code",
   "execution_count": 3,
   "metadata": {},
   "outputs": [],
   "source": [
    "from torchvision.datasets import MNIST"
   ]
  },
  {
   "cell_type": "code",
   "execution_count": 4,
   "metadata": {},
   "outputs": [],
   "source": [
    "from torchvision.transforms import Lambda, ToTensor, Compose\n",
    "trasform = Compose([\n",
    "    ToTensor(),\n",
    "    Lambda(lambda image: image/255),\n",
    "    Lambda(lambda image: image.view(784))\n",
    "])\n",
    "\n",
    "data_train = MNIST(root=\"./\", download=True, train=True, transform=trasform)\n",
    "data_test = MNIST(root=\"./\", download=True, train=False, transform=trasform)"
   ]
  },
  {
   "cell_type": "code",
   "execution_count": 5,
   "metadata": {},
   "outputs": [
    {
     "data": {
      "text/plain": [
       "torch.Size([784])"
      ]
     },
     "execution_count": 5,
     "metadata": {},
     "output_type": "execute_result"
    }
   ],
   "source": [
    "data_train[0][0].shape"
   ]
  },
  {
   "cell_type": "code",
   "execution_count": 6,
   "metadata": {},
   "outputs": [],
   "source": [
    "from torch import nn, optim\n",
    "\n",
    "class Model(nn.Module):\n",
    "    def __init__(self, sizes):      #[128, 64, 10]\n",
    "        super().__init__()\n",
    "        self.hidden_layer_1 = nn.Linear(784,sizes[0])\n",
    "        self.act1= nn.Sigmoid()\n",
    "        self.hidden_layer_2 = nn.Linear(sizes[0], sizes[1])\n",
    "        self.act2 = nn.Sigmoid()\n",
    "        self.output_layer = nn.Linear(sizes[1], sizes[2])\n",
    "        self.act3 = nn.Softmax(dim=1)\n",
    "\n",
    "        self.loss = nn.CrossEntropyLoss()\n",
    "        self.optimizer = optim.Adam(self.parameters())\n",
    "\n",
    "    \n",
    "    def forward(self, inputs):\n",
    "        x = self.hidden_layer_1(inputs)\n",
    "        x = self.act1(x)\n",
    "        x = self.hidden_layer_2(x)\n",
    "        x = self.act2(x)\n",
    "        x = self.output_layer(x)\n",
    "        x = self.act3(x)\n",
    "        return x\n",
    "\n",
    "    def fit(self, X, Y):\n",
    "        self.optimizer.zero_grad()\n",
    "        y_pred = self.forward(X)\n",
    "        loss = self.loss(y_pred, Y)\n",
    "        loss.backward()\n",
    "        self.optimizer.step()\n",
    "        return loss.item()\n",
    "    \n",
    "    def predict(self, X):\n",
    "        with torch.no_grad():\n",
    "            return torch.argmax(self.forward(X), axis=1)\n",
    "        \n",
    "    \n",
    "    def evaluate(self, test_dataloader):\n",
    "        correct = 0\n",
    "        for X, Y in test_dataloader:\n",
    "            y_pred = self.predict(X)\n",
    "            correct += (Y==y_pred).sum()\n",
    "        acc = correct/(len(test_dataloader)*16)\n",
    "        print(f\"Accuracy : {acc}\")"
   ]
  },
  {
   "cell_type": "code",
   "execution_count": 7,
   "metadata": {},
   "outputs": [],
   "source": [
    "model = Model([128, 64, 10])"
   ]
  },
  {
   "cell_type": "code",
   "execution_count": 8,
   "metadata": {},
   "outputs": [],
   "source": [
    "from torch.utils.data import DataLoader\n",
    "\n",
    "BATCH = 16\n",
    "\n",
    "train_dataloader  = DataLoader(data_train, batch_size=BATCH, shuffle=True)\n",
    "test_dataloader = DataLoader(data_test, batch_size=BATCH, shuffle=True)"
   ]
  },
  {
   "cell_type": "code",
   "execution_count": 9,
   "metadata": {},
   "outputs": [
    {
     "name": "stderr",
     "output_type": "stream",
     "text": [
      "Fitting epoch 0: 100%|██████████| 3750/3750 [00:17<00:00, 209.46it/s]\n"
     ]
    },
    {
     "name": "stdout",
     "output_type": "stream",
     "text": [
      "Epoch 0: 2.1928\n"
     ]
    },
    {
     "name": "stderr",
     "output_type": "stream",
     "text": [
      "Fitting epoch 1: 100%|██████████| 3750/3750 [00:17<00:00, 215.99it/s]\n"
     ]
    },
    {
     "name": "stdout",
     "output_type": "stream",
     "text": [
      "Epoch 1: 1.9789\n"
     ]
    },
    {
     "name": "stderr",
     "output_type": "stream",
     "text": [
      "Fitting epoch 2: 100%|██████████| 3750/3750 [00:18<00:00, 207.18it/s]\n"
     ]
    },
    {
     "name": "stdout",
     "output_type": "stream",
     "text": [
      "Epoch 2: 1.8779\n"
     ]
    },
    {
     "name": "stderr",
     "output_type": "stream",
     "text": [
      "Fitting epoch 3: 100%|██████████| 3750/3750 [00:20<00:00, 186.93it/s]\n"
     ]
    },
    {
     "name": "stdout",
     "output_type": "stream",
     "text": [
      "Epoch 3: 1.8035\n"
     ]
    },
    {
     "name": "stderr",
     "output_type": "stream",
     "text": [
      "Fitting epoch 4: 100%|██████████| 3750/3750 [00:18<00:00, 202.18it/s]\n"
     ]
    },
    {
     "name": "stdout",
     "output_type": "stream",
     "text": [
      "Epoch 4: 1.7551\n"
     ]
    },
    {
     "name": "stderr",
     "output_type": "stream",
     "text": [
      "Fitting epoch 5: 100%|██████████| 3750/3750 [00:21<00:00, 171.22it/s]\n"
     ]
    },
    {
     "name": "stdout",
     "output_type": "stream",
     "text": [
      "Epoch 5: 1.7223\n"
     ]
    },
    {
     "name": "stderr",
     "output_type": "stream",
     "text": [
      "Fitting epoch 6: 100%|██████████| 3750/3750 [00:17<00:00, 216.22it/s]\n"
     ]
    },
    {
     "name": "stdout",
     "output_type": "stream",
     "text": [
      "Epoch 6: 1.6890\n"
     ]
    },
    {
     "name": "stderr",
     "output_type": "stream",
     "text": [
      "Fitting epoch 7: 100%|██████████| 3750/3750 [00:17<00:00, 211.21it/s]\n"
     ]
    },
    {
     "name": "stdout",
     "output_type": "stream",
     "text": [
      "Epoch 7: 1.6503\n"
     ]
    },
    {
     "name": "stderr",
     "output_type": "stream",
     "text": [
      "Fitting epoch 8: 100%|██████████| 3750/3750 [00:15<00:00, 234.81it/s]\n"
     ]
    },
    {
     "name": "stdout",
     "output_type": "stream",
     "text": [
      "Epoch 8: 1.6304\n"
     ]
    },
    {
     "name": "stderr",
     "output_type": "stream",
     "text": [
      "Fitting epoch 9: 100%|██████████| 3750/3750 [00:15<00:00, 236.73it/s]"
     ]
    },
    {
     "name": "stdout",
     "output_type": "stream",
     "text": [
      "Epoch 9: 1.6160\n"
     ]
    },
    {
     "name": "stderr",
     "output_type": "stream",
     "text": [
      "\n"
     ]
    }
   ],
   "source": [
    "from tqdm import tqdm\n",
    "\n",
    "epochs = 10\n",
    "\n",
    "for i in range(epochs):\n",
    "    total_loss = 0\n",
    "    for X, Y in tqdm(train_dataloader, desc=f\"Fitting epoch {i}\"):\n",
    "        loss = model.fit(X, Y)\n",
    "        total_loss += loss\n",
    "    avg_loss = total_loss/len(train_dataloader)\n",
    "    print(f\"Epoch {i}: {avg_loss:.4f}\")    "
   ]
  },
  {
   "cell_type": "code",
   "execution_count": 10,
   "metadata": {},
   "outputs": [
    {
     "name": "stdout",
     "output_type": "stream",
     "text": [
      "Accuracy : 0.8651999831199646\n"
     ]
    }
   ],
   "source": [
    "model.evaluate(test_dataloader)"
   ]
  },
  {
   "cell_type": "code",
   "execution_count": 11,
   "metadata": {},
   "outputs": [],
   "source": [
    "path = \"./mnist_model.pth\"\n",
    "torch.save(model, path)"
   ]
  }
 ],
 "metadata": {
  "kernelspec": {
   "display_name": "myTorch",
   "language": "python",
   "name": "python3"
  },
  "language_info": {
   "codemirror_mode": {
    "name": "ipython",
    "version": 3
   },
   "file_extension": ".py",
   "mimetype": "text/x-python",
   "name": "python",
   "nbconvert_exporter": "python",
   "pygments_lexer": "ipython3",
   "version": "3.10.14"
  }
 },
 "nbformat": 4,
 "nbformat_minor": 2
}
